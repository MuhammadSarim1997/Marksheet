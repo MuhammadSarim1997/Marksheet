{
 "cells": [
  {
   "cell_type": "code",
   "execution_count": 17,
   "metadata": {},
   "outputs": [
    {
     "name": "stdout",
     "output_type": "stream",
     "text": [
      "Please in put your marks 45\n",
      "45\n",
      " You got \n",
      "F\n"
     ]
    },
    {
     "data": {
      "text/plain": [
       "<function TextIOWrapper.close()>"
      ]
     },
     "execution_count": 17,
     "metadata": {},
     "output_type": "execute_result"
    }
   ],
   "source": [
    "Marks = int(input(\"Please in put your marks\"))\n",
    "print (Marks)\n",
    "print(\" You got \")\n",
    "\n",
    "if Marks >= 90 : \n",
    "    print(\"A\") \n",
    "    x= \"A\"\n",
    "elif Marks >= 80 : \n",
    "    print(\"B\")\n",
    "    x =\"B\"\n",
    "elif Marks >= 70 : \n",
    "    print(\"C\")\n",
    "    x =\"C\"\n",
    "elif Marks >= 60 : \n",
    "    print(\"D\")\n",
    "    x =\"D\"\n",
    "elif Marks >= 50 :\n",
    "    print(\"E\")\n",
    "    x= \"E\"\n",
    "else :\n",
    "    print(\"F\")\n",
    "    x = \"F\"\n",
    "    \n",
    "\n",
    "f = open ( \"marksheet\",\"w+\")\n",
    "f.write = (\"He got \",x)\n",
    "f.close"
   ]
  }
 ],
 "metadata": {
  "kernelspec": {
   "display_name": "Python 3",
   "language": "python",
   "name": "python3"
  },
  "language_info": {
   "codemirror_mode": {
    "name": "ipython",
    "version": 3
   },
   "file_extension": ".py",
   "mimetype": "text/x-python",
   "name": "python",
   "nbconvert_exporter": "python",
   "pygments_lexer": "ipython3",
   "version": "3.7.3"
  }
 },
 "nbformat": 4,
 "nbformat_minor": 2
}
